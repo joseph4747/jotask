{
 "cells": [
  {
   "cell_type": "code",
   "execution_count": 10,
   "id": "eafb6974-9ea9-453e-98fa-925b51989d0c",
   "metadata": {},
   "outputs": [
    {
     "name": "stdout",
     "output_type": "stream",
     "text": [
      "Select operation:\n",
      "1. Add\n",
      "2. Subtract\n",
      "3. multiply\n",
      "4. Divide\n"
     ]
    },
    {
     "name": "stdin",
     "output_type": "stream",
     "text": [
      "Enter choice (1/2/3/4): 1\n",
      "Enter first number: 10\n",
      "Enter second number: 20\n"
     ]
    },
    {
     "name": "stdout",
     "output_type": "stream",
     "text": [
      "10.0 + 20.0 = 30.0\n"
     ]
    },
    {
     "name": "stdin",
     "output_type": "stream",
     "text": [
      "Do you want to perform another calculation? (yes/no): yes\n",
      "Enter choice (1/2/3/4): 2\n",
      "Enter first number: 50\n",
      "Enter second number: 50\n"
     ]
    },
    {
     "name": "stdout",
     "output_type": "stream",
     "text": [
      "50.0 - 50.0 = 0.0\n"
     ]
    },
    {
     "name": "stdin",
     "output_type": "stream",
     "text": [
      "Do you want to perform another calculation? (yes/no): yes\n",
      "Enter choice (1/2/3/4): 3\n",
      "Enter first number: 100\n",
      "Enter second number: 10\n"
     ]
    },
    {
     "name": "stdout",
     "output_type": "stream",
     "text": [
      "100.0 * 10.0 = 1000.0\n"
     ]
    },
    {
     "name": "stdin",
     "output_type": "stream",
     "text": [
      "Do you want to perform another calculation? (yes/no): yes\n",
      "Enter choice (1/2/3/4): 4\n",
      "Enter first number: 5000\n",
      "Enter second number: 5\n"
     ]
    },
    {
     "name": "stdout",
     "output_type": "stream",
     "text": [
      "5000.0 / 5.0 = 1000.0\n"
     ]
    },
    {
     "name": "stdin",
     "output_type": "stream",
     "text": [
      "Do you want to perform another calculation? (yes/no): no\n"
     ]
    }
   ],
   "source": [
    "def add(x,y):\n",
    "    return x + y\n",
    "\n",
    "def subtract(x,y):\n",
    "    return x - y\n",
    "\n",
    "def multiply(x,y):\n",
    "    return x * y \n",
    "    \n",
    "def divide(x,y):\n",
    "    if y ==0:\n",
    "        return \"Error! division by zero.\"\n",
    "    return x / y\n",
    "\n",
    "def calculator():\n",
    "    print(\"Select operation:\")\n",
    "    print(\"1. Add\")\n",
    "    print(\"2. Subtract\")\n",
    "    print(\"3. multiply\")\n",
    "    print(\"4. Divide\")\n",
    "\n",
    "    while True:\n",
    "        choice = input(\"Enter choice (1/2/3/4):\")\n",
    "\n",
    "        if choice in ['1', '2', '3', '4']:\n",
    "            try:\n",
    "                num1 = float(input(\"Enter first number:\"))\n",
    "                num2 = float(input(\"Enter second number:\" ))\n",
    "            except ValueError:\n",
    "                print(\"Invalid input. Please enter a number.\")\n",
    "                continue\n",
    "\n",
    "            if choice == '1':\n",
    "                print(f\"{num1} + {num2} = {add(num1, num2)}\")\n",
    "            elif choice == '2':\n",
    "                print(f\"{num1} - {num2} = {subtract(num1, num2)}\")\n",
    "            elif choice == '3':\n",
    "                print(f\"{num1} * {num2} = {multiply(num1, num2)}\")\n",
    "            elif choice == '4':\n",
    "                result = divide(num1, num2)\n",
    "                if result == \"Error! division by zero.\":\n",
    "                    print(result)\n",
    "                else:\n",
    "                    print(f\"{num1} / {num2} = {result}\")\n",
    "            else:\n",
    "                print(\"Invalid input. Please enter a valid option.\")\n",
    "\n",
    "            next_calculation = input(\"Do you want to perform another calculation? (yes/no):\")\n",
    "            if next_calculation.lower() != 'yes':\n",
    "                break\n",
    "\n",
    "if __name__ ==\"__main__\":\n",
    "    calculator()\n",
    "\n",
    "                                     \n",
    "\n",
    "\n",
    "\n",
    "\n",
    "\n",
    "     "
   ]
  },
  {
   "cell_type": "code",
   "execution_count": null,
   "id": "457236ab-48f3-4a0b-9b13-af883b3a4f88",
   "metadata": {},
   "outputs": [],
   "source": [
    "import tkinter as tk\n",
    "from tkinter import messagebox\n",
    "\n",
    "def on_button_click(event):\n",
    "    current_text = entry.get()\n",
    "    text = event.widget.cget(\"text\")\n",
    "    if text == \"=\":\n",
    "        try:\n",
    "            result = eval(current_text)\n",
    "            entry.delete(0, tk.END)entry.insert(tk.END, str(result))\n",
    "        except Exception as e:\n",
    "            messagebox.showerror(\"Error\", \"Invalid input\")\n",
    "    elif text == \"c\":\n",
    "        entry.delete(0,tk.END)\n",
    "    else\n",
    "        entry.insert(tk.END, text)\n",
    "\n",
    "root = tk.TK()\n",
    "root.title(\"Calculator\")\n",
    "\n",
    "entry = tk.Entry(root, font=\"Arial 20\", boderwidth=5, relief=tk.SUNKEN)\n",
    "entry.grid(row=0, column=0, columnspan=4)\n",
    "\n",
    "button_texts = [\n",
    "    '7', '8', '9', '/',\n",
    "    '4', '5', '6', '*',\n",
    "    '1', '2', '3', '-',\n",
    "    '0', 'c', '=', '+'\n",
    "]\n",
    "\n",
    "row_val = 1\n",
    "col_val = 0\n",
    "for ttext in button_texts:\n",
    "    button = tk.Button(root, text=text, font=\"Arial 20\", width=4, height=2)\n",
    "    button.grid(row=row_val, column=col_val, padx=5, pady=5)\n",
    "    button.bind(\"<Button-1>\", on_button_click)\n",
    "    col_val += 1\n",
    "    if col_val > 3:\n",
    "        col_val = 0\n",
    "        row_val += 1\n",
    "\n",
    "root.mainloop()\n"
   ]
  }
 ],
 "metadata": {
  "kernelspec": {
   "display_name": "Python 3 (ipykernel)",
   "language": "python",
   "name": "python3"
  },
  "language_info": {
   "codemirror_mode": {
    "name": "ipython",
    "version": 3
   },
   "file_extension": ".py",
   "mimetype": "text/x-python",
   "name": "python",
   "nbconvert_exporter": "python",
   "pygments_lexer": "ipython3",
   "version": "3.12.4"
  }
 },
 "nbformat": 4,
 "nbformat_minor": 5
}
